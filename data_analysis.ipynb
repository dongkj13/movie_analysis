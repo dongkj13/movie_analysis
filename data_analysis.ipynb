{
 "cells": [
  {
   "cell_type": "code",
   "execution_count": 74,
   "metadata": {
    "collapsed": true
   },
   "outputs": [],
   "source": [
    "import urllib.request\n",
    "import requests\n",
    "from bs4 import BeautifulSoup\n",
    "import re\n",
    "from movie import movie\n",
    "\n",
    "def getHTMLText(url,k):\n",
    "    try:\n",
    "        if (k == 0):\n",
    "            kw={}\n",
    "        else: \n",
    "            kw={'start':k,'filter':''}\n",
    "        r = requests.get(url, params=kw, headers={'User-Agent': 'Mozilla/4.0'})\n",
    "        r.raise_for_status()\n",
    "        r.encoding = r.apparent_encoding\n",
    "        return r.text\n",
    "    except:\n",
    "        print(\"Failed!\")\n",
    "\n",
    "def getNumOfMovies(html):\n",
    "    soup = BeautifulSoup(html, \"html.parser\")\n",
    "    num = soup.find('title').getText() # 我看过的电影(***)\n",
    "    num = re.search('\\d+',num).group()\n",
    "    print(num)\n",
    "        \n",
    "def getData(html):\n",
    "    soup = BeautifulSoup(html, \"html.parser\")\n",
    "    movieList=soup.find('div',attrs={'class':'grid-view'})#找到第一个class属性值为grid_view的ol标签\n",
    "    moveInfo=[]\n",
    "    for movieLi in movieList.find_all('div',attrs={'class':'item'}):#找到所有li标签\n",
    "        data = []\n",
    "\n",
    "        movieInfo = movieLi.find('div',attrs={'class':'info'}).find('ul') #找到第一个class属性值为hd的div标签\n",
    "        movieHref = movieInfo.find('a')['href']\n",
    "        movieName = movieInfo.find('a').getText()\n",
    "        if movieName.find('/') != -1:\n",
    "            movieName = movieName[0:movieName.find('/')]\n",
    "        movieName = movieName.strip()\n",
    "\n",
    "\n",
    "        meRate = movieInfo.find_all('li')[2].find_all('span')[0]['class'][0]\n",
    "        meTag = movieInfo.find_all('li')[2].find_all('span')[2].getText()\n",
    "        print(movieName,'\\t', movieHref, '\\t', meRate, '\\t', meTag)\n",
    "\n",
    "\n"
   ]
  },
  {
   "cell_type": "code",
   "execution_count": 75,
   "metadata": {},
   "outputs": [
    {
     "name": "stdout",
     "output_type": "stream",
     "text": [
      "585\n"
     ]
    }
   ],
   "source": [
    "url = r'https://movie.douban.com/people/155499404/collect'\n",
    "html = getHTMLText(url, 31)\n",
    "num_of_movies = getNumOfMovies(html)\n"
   ]
  },
  {
   "cell_type": "code",
   "execution_count": 69,
   "metadata": {
    "scrolled": true
   },
   "outputs": [
    {
     "name": "stdout",
     "output_type": "stream",
     "text": [
      "医馆笑传2 \t https://movie.douban.com/subject/26647105/ \t rating3-t \t 标签: 2016 中国大陆 电视剧 喜剧\n",
      "医馆笑传 \t https://movie.douban.com/subject/25885443/ \t rating3-t \t 标签: 2015 中国大陆 电视剧 喜剧\n",
      "我的青春遇见你 \t https://movie.douban.com/subject/27124505/ \t rating5-t \t 标签: 2018 中国大陆 电视剧 爱情\n",
      "鬼吹灯之牧野诡事 \t https://movie.douban.com/subject/26711098/ \t rating3-t \t 标签: 2017 中国大陆 电视剧 悬疑 冒险\n",
      "猎场 \t https://movie.douban.com/subject/26322642/ \t rating5-t \t 标签: 2017 中国大陆 电视剧 职场\n",
      "杀不死 \t https://movie.douban.com/subject/26772013/ \t rating5-t \t 标签: 2017 中国大陆 电视剧 悬疑 喜剧\n",
      "上海女子图鉴 \t https://movie.douban.com/subject/27185556/ \t rating4-t \t 标签: 2018 中国大陆 电视剧 职场\n",
      "北京女子图鉴 \t https://movie.douban.com/subject/27176635/ \t rating4-t \t 标签: 2018 中国大陆 电视剧 职场\n",
      "何以笙箫默 \t https://movie.douban.com/subject/25885442/ \t rating5-t \t 标签: 2015 中国大陆 电视剧 爱情\n",
      "花间提壶方大厨 \t https://movie.douban.com/subject/26868416/ \t rating5-t \t 标签: 2017 中国大陆 电视剧 爱情 古装\n",
      "脱身 \t https://movie.douban.com/subject/26864184/ \t rating5-t \t 标签: 2018 中国大陆 电视剧 谍战 爱情\n",
      "毛骗 终结篇 \t https://movie.douban.com/subject/26603847/ \t rating5-t \t 标签: 2015 中国大陆 电视剧 悬疑 犯罪\n",
      "毛骗 第二季 \t https://movie.douban.com/subject/6894818/ \t rating5-t \t 标签: 2011 中国大陆 电视剧 悬疑 犯罪\n",
      "毛骗 第一季 \t https://movie.douban.com/subject/4888230/ \t rating5-t \t 标签: 中国大陆 电视剧 悬疑 犯罪\n",
      "余罪 第二季 \t https://movie.douban.com/subject/26802975/ \t rating5-t \t 标签: 2016 中国大陆 电视剧 犯罪 悬疑\n"
     ]
    }
   ],
   "source": [
    "getData(html)"
   ]
  },
  {
   "cell_type": "code",
   "execution_count": 25,
   "metadata": {},
   "outputs": [
    {
     "data": {
      "text/plain": [
       "-1"
      ]
     },
     "execution_count": 25,
     "metadata": {},
     "output_type": "execute_result"
    }
   ],
   "source": [
    "t = r'海王 Aquaman'\n",
    "t.find('/')"
   ]
  },
  {
   "cell_type": "code",
   "execution_count": 27,
   "metadata": {},
   "outputs": [
    {
     "data": {
      "text/plain": [
       "'海王 Aquama'"
      ]
     },
     "execution_count": 27,
     "metadata": {},
     "output_type": "execute_result"
    }
   ],
   "source": [
    "t[0:-1]"
   ]
  },
  {
   "cell_type": "code",
   "execution_count": null,
   "metadata": {
    "collapsed": true
   },
   "outputs": [],
   "source": []
  }
 ],
 "metadata": {
  "kernelspec": {
   "display_name": "Python 3",
   "language": "python",
   "name": "python3"
  },
  "language_info": {
   "codemirror_mode": {
    "name": "ipython",
    "version": 3
   },
   "file_extension": ".py",
   "mimetype": "text/x-python",
   "name": "python",
   "nbconvert_exporter": "python",
   "pygments_lexer": "ipython3",
   "version": "3.6.2"
  }
 },
 "nbformat": 4,
 "nbformat_minor": 2
}
